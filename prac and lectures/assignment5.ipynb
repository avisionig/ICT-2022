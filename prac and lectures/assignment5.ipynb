{
 "cells": [
  {
   "cell_type": "code",
   "execution_count": 5,
   "id": "b8867ca0",
   "metadata": {},
   "outputs": [
    {
     "name": "stdout",
     "output_type": "stream",
     "text": [
      "KBTU_ID         4\n",
      "NAME_STUDENT    5\n",
      "TYPE            2\n",
      "DATE            6\n",
      "BEGIN_HOUR      3\n",
      "WEEK            2\n",
      "COUNT           5\n",
      "dtype: int64\n",
      "        KBTU_ID           NAME_STUDENT      TYPE        DATE  BEGIN_HOUR  \\\n",
      "0     21B030804       Abdigali Almagul   LECTURE  2022-09-14        11.0   \n",
      "1     21B030804       Abdigali Almagul  PRACTICE  2022-09-16        12.0   \n",
      "2     21B030804       Abdigali Almagul   LECTURE  2022-09-21        11.0   \n",
      "3     21B030804       Abdigali Almagul  PRACTICE  2022-09-23        12.0   \n",
      "4     21B030804       Abdigali Almagul   LECTURE  2022-09-28        11.0   \n",
      "...         ...                    ...       ...         ...         ...   \n",
      "3665  21B031270  Zurgambayev Bakhredin  PRACTICE  2022-09-23        10.0   \n",
      "3666  21B031270  Zurgambayev Bakhredin   LECTURE  2022-09-27        16.0   \n",
      "3667  21B031270  Zurgambayev Bakhredin  PRACTICE  2022-09-30        10.0   \n",
      "3668  21B031270  Zurgambayev Bakhredin   LECTURE  2022-10-04        16.0   \n",
      "3669  21B031270  Zurgambayev Bakhredin   LECTURE  2022-10-11        16.0   \n",
      "\n",
      "      WEEK COUNT  \n",
      "0      2.0   2.0  \n",
      "1      2.0   1.0  \n",
      "2      3.0   2.0  \n",
      "3      3.0   1.0  \n",
      "4      4.0   2.0  \n",
      "...    ...   ...  \n",
      "3665   3.0   1.0  \n",
      "3666   4.0   2.0  \n",
      "3667   4.0   1.0  \n",
      "3668   5.0   2.0  \n",
      "3669   6.0   2.0  \n",
      "\n",
      "[3670 rows x 7 columns]\n"
     ]
    }
   ],
   "source": [
    "import csv\n",
    "import pandas as pd\n",
    "import datetime \n",
    "import numpy as np\n",
    "\n",
    "a = ['_','error','NaN','nan','ERROR']\n",
    "df = pd.read_csv(r\"C:\\Users\\ayan\\Desktop\\folder\\vscode\\ict\\attendance_to_clean.csv\", na_values= a)\n",
    "\n",
    "#df.sort_values(\"NAME_STUDENT\", inplace = True)\n",
    "\n",
    "for index, lines in df.iterrows():\n",
    "    try:\n",
    "        a = datetime.datetime.strptime(lines['DATE'], '%Y-%m-%d')\n",
    "        ff = datetime.datetime(2022,9, 1)\n",
    "        if a < ff:\n",
    "            df.loc[index, 'DATE'] = np.nan\n",
    "        else: \n",
    "             continue\n",
    "    except:\n",
    "        df.loc[index, 'DATE'] = np.nan\n",
    "\n",
    "for index, lines in df.iterrows():\n",
    "    try:\n",
    "        a = float(lines['COUNT'])\n",
    "        if a < 10:\n",
    "            df.loc[index, 'COUNT'] = a\n",
    "        else :\n",
    "            df.loc[index, 'COUNT'] = np.nan\n",
    "    except:\n",
    "        df.loc[index, 'COUNT'] = np.nan\n",
    "\n",
    "for index, lines in df.iterrows():\n",
    "    try:\n",
    "        b = float(lines['BEGIN_HOUR'])\n",
    "        if b < 20:\n",
    "            df.loc[index, 'BEGIN_HOUR'] = b\n",
    "        else:\n",
    "            df.loc[index, 'BEGIN_HOUR'] = np.nan\n",
    "    except:\n",
    "        df.loc[index, 'BEGIN_HOUR'] = np.nan\n",
    "        \n",
    "'''for index, lines in df.iterrows():\n",
    "    try:\n",
    "        c = float(lines['WEEK'])\n",
    "        if c < 9:\n",
    "            df.loc[index, 'WEEK'] = 9\n",
    "        else:\n",
    "            df.loc[index, 'WEEK'] = np.nan\n",
    "    except:\n",
    "        df.loc[index, 'WEEK'] = np.nan'''\n",
    "\n",
    "for index, lines in df.iterrows():\n",
    "    try:\n",
    "        a = float(lines['WEEK'])\n",
    "    except:\n",
    "        df.loc[index, 'WEEK'] = np.nan\n",
    "'''df = df[df['WEEK'] < 9]'''\n",
    "\n",
    "for index, lines in df.iterrows():\n",
    "    if str(lines['NAME_STUDENT'])[0].isalpha() == True:\n",
    "        continue\n",
    "    else:\n",
    "        df.loc[index, 'NAME_STUDENT'] = np.nan\n",
    "print (df.isnull().sum())\n",
    "\n",
    "df.dropna(inplace=True)\n",
    "df.drop_duplicates(inplace = True) \n",
    "\n",
    "df.sort_values([\"NAME_STUDENT\", 'DATE', 'BEGIN_HOUR', 'WEEK'], inplace = True)\n",
    "#df.sort_values('NAME_STUDENT', inplace = True)\n",
    "df = df.reset_index()\n",
    "del df['index']\n",
    "\n",
    "print(df)"
   ]
  },
  {
   "cell_type": "code",
   "execution_count": 47,
   "id": "c6641d8d",
   "metadata": {},
   "outputs": [
    {
     "name": "stdout",
     "output_type": "stream",
     "text": [
      "        BEGIN_HOUR         WEEK\n",
      "count  3670.000000  3670.000000\n",
      "mean     14.312262     4.013624\n",
      "std       2.510276     1.376646\n",
      "min       9.000000     2.000000\n",
      "25%      11.000000     3.000000\n",
      "50%      15.500000     4.000000\n",
      "75%      16.000000     5.000000\n",
      "max      17.000000     7.000000\n"
     ]
    }
   ],
   "source": [
    "print(df.describe())"
   ]
  },
  {
   "cell_type": "code",
   "execution_count": 46,
   "id": "884db391",
   "metadata": {},
   "outputs": [
    {
     "data": {
      "text/plain": [
       "<AxesSubplot:>"
      ]
     },
     "execution_count": 46,
     "metadata": {},
     "output_type": "execute_result"
    },
    {
     "data": {
      "image/png": "[encoded data removed]",
      "text/plain": [
       "<Figure size 432x288 with 1 Axes>"
      ]
     },
     "metadata": {
      "needs_background": "light"
     },
     "output_type": "display_data"
    }
   ],
   "source": [
    "df.plot(y = 'COUNT')"
   ]
  },
  {
   "cell_type": "code",
   "execution_count": null,
   "id": "3ac121ef",
   "metadata": {},
   "outputs": [],
   "source": []
  }
 ],
 "metadata": {
  "kernelspec": {
   "display_name": "Python 3 (ipykernel)",
   "language": "python",
   "name": "python3"
  },
  "language_info": {
   "codemirror_mode": {
    "name": "ipython",
    "version": 3
   },
   "file_extension": ".py",
   "mimetype": "text/x-python",
   "name": "python",
   "nbconvert_exporter": "python",
   "pygments_lexer": "ipython3",
   "version": "3.10.6"
  }
 },
 "nbformat": 4,
 "nbformat_minor": 5
}
