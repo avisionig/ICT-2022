{
 "cells": [
  {
   "cell_type": "code",
   "execution_count": 3,
   "id": "e2b2f240",
   "metadata": {},
   "outputs": [],
   "source": [
    "import requests \n",
    "from bs4 import BeautifulSoup\n",
    "import pandas as pd"
   ]
  },
  {
   "cell_type": "code",
   "execution_count": 4,
   "id": "82106c38",
   "metadata": {},
   "outputs": [],
   "source": [
    "headers = {'user-agent' : 'Mozilla/5.0 (Windows NT 10.0; Win64; x64; rv:105.0) Gecko/20100101 Firefox/105.0'}\n",
    "resp = requests.get(\"https://news.google.com/search?q=apple\", headers = headers)\n",
    "soup = BeautifulSoup(resp.content)"
   ]
  },
  {
   "cell_type": "code",
   "execution_count": 5,
   "id": "ca767bf3",
   "metadata": {},
   "outputs": [],
   "source": [
    "articles = soup.find_all('article')\n",
    "names, times, links = [], [], []\n",
    "for i in articles:\n",
    "    name = i.find('a', jsname= False)\n",
    "    time = i.find('time')\n",
    "    link = \"news.google.com\"+name['href']\n",
    "    names.append(name.text)\n",
    "    times.append(time.text)\n",
    "    links.append(link)"
   ]
  },
  {
   "cell_type": "code",
   "execution_count": 6,
   "id": "9a127d8b",
   "metadata": {},
   "outputs": [
    {
     "name": "stdout",
     "output_type": "stream",
     "text": [
      "                                                 Title  \\\n",
      "0                 Apple Reports Fourth Quarter Results   \n",
      "1    Apple Earnings: iPhone Powers Growth, but Sign...   \n",
      "2    Apple beats but comes up light on iPhone sales...   \n",
      "3    Apple Dodges Tech Rout, Even While Warning of ...   \n",
      "4    Apple earnings see iPhone revenues up, still s...   \n",
      "..                                                 ...   \n",
      "98   Apple Investigating Apple Watch Series 8 and U...   \n",
      "99   EXCLUSIVE Apple wins 2/3 cut in French antitru...   \n",
      "100  Apple SIM No Longer Available for Activating N...   \n",
      "101  Why I Wouldn't Touch Apple's Stock With a 10 F...   \n",
      "102        Apple Releases New MagSafe Charger Firmware   \n",
      "\n",
      "                                                  Link          Time  \n",
      "0    news.google.com./articles/CBMiTGh0dHBzOi8vd3d3...  11 hours ago  \n",
      "1    news.google.com./articles/CAIiEBnspUMaP3PLdwc8...   9 hours ago  \n",
      "2    news.google.com./articles/CAIiELZagyqef96viu2t...   9 hours ago  \n",
      "3    news.google.com./articles/CAIiEHhP88Bpq8GQFkP4...   7 hours ago  \n",
      "4    news.google.com./articles/CBMiYGh0dHBzOi8vdGVj...  10 hours ago  \n",
      "..                                                 ...           ...  \n",
      "98   news.google.com./articles/CAIiEEDDPESyawMmKz7W...   27 days ago  \n",
      "99   news.google.com./articles/CAIiEFULttpM8NRqISdY...   22 days ago  \n",
      "100  news.google.com./articles/CAIiEI6MsQ_dBLkDiudU...   26 days ago  \n",
      "101  news.google.com./articles/CBMiXWh0dHBzOi8vd3d3...   23 days ago  \n",
      "102  news.google.com./articles/CAIiEGRFXsTsoFXmaGbI...   23 days ago  \n",
      "\n",
      "[103 rows x 3 columns]\n"
     ]
    }
   ],
   "source": [
    "dictio = {'Title' : names, 'Link' : links, 'Time' : times}\n",
    "df = pd.DataFrame(dictio)\n",
    "print(df)"
   ]
  },
  {
   "cell_type": "code",
   "execution_count": 7,
   "id": "643586ba",
   "metadata": {},
   "outputs": [
    {
     "name": "stdout",
     "output_type": "stream",
     "text": [
      "./?hl=en-US&gl=US&ceid=US%3Aen\n"
     ]
    }
   ],
   "source": [
    "print(soup.find_all('a')[0]['href'])"
   ]
  },
  {
   "cell_type": "code",
   "execution_count": 12,
   "id": "83a4ddd8",
   "metadata": {},
   "outputs": [
    {
     "name": "stdout",
     "output_type": "stream",
     "text": [
      "None\n"
     ]
    }
   ],
   "source": [
    "print(soup.descendant)"
   ]
  },
  {
   "cell_type": "code",
   "execution_count": null,
   "id": "aa92d71c",
   "metadata": {},
   "outputs": [],
   "source": []
  }
 ],
 "metadata": {
  "kernelspec": {
   "display_name": "Python 3 (ipykernel)",
   "language": "python",
   "name": "python3"
  },
  "language_info": {
   "codemirror_mode": {
    "name": "ipython",
    "version": 3
   },
   "file_extension": ".py",
   "mimetype": "text/x-python",
   "name": "python",
   "nbconvert_exporter": "python",
   "pygments_lexer": "ipython3",
   "version": "3.10.6"
  }
 },
 "nbformat": 4,
 "nbformat_minor": 5
}
