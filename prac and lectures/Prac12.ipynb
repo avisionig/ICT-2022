{
 "cells": [
  {
   "cell_type": "code",
   "execution_count": 61,
   "id": "817a7b69",
   "metadata": {},
   "outputs": [],
   "source": [
    "import numpy as np\n",
    "import sklearn.linear_model as skmod\n",
    "import sklearn.preprocessing as skprepro\n",
    "import pandas as pd"
   ]
  },
  {
   "cell_type": "code",
   "execution_count": 62,
   "id": "7619b132",
   "metadata": {},
   "outputs": [],
   "source": [
    "df = pd.read_parquet(r\"Downloads\\data_streamers.parquet\")"
   ]
  },
  {
   "cell_type": "code",
   "execution_count": 63,
   "id": "f6a4e9e8",
   "metadata": {},
   "outputs": [
    {
     "name": "stdout",
     "output_type": "stream",
     "text": [
      "    Time_of_the_day  Number_of_viewers  Average_age_of_viewers  \\\n",
      "0                10              23811                      20   \n",
      "1                11              47309                      16   \n",
      "2                 1              25461                      30   \n",
      "3                14               9719                      29   \n",
      "4                 2              30176                      14   \n",
      "5                14               5560                      21   \n",
      "6                 9              45401                       7   \n",
      "7                 5              43503                      27   \n",
      "8                 5              40367                      22   \n",
      "9                 9              20385                      15   \n",
      "10                0              26368                      28   \n",
      "11                6               2429                      27   \n",
      "12                6              29969                      27   \n",
      "13               23              37973                      17   \n",
      "14               19              17662                      12   \n",
      "15               19              37070                      28   \n",
      "16               19               5146                      26   \n",
      "17                2              47057                      11   \n",
      "18                4               1423                      19   \n",
      "19               19              46764                       7   \n",
      "20                2              25286                      25   \n",
      "21               18              46267                      17   \n",
      "22                4               4617                      26   \n",
      "23               15               9894                      24   \n",
      "24               12              14649                      23   \n",
      "25               22               2477                      27   \n",
      "26               12              16949                      30   \n",
      "27                4              47644                      15   \n",
      "28                7               4693                      13   \n",
      "\n",
      "          Video_game  \n",
      "0   League of Legend  \n",
      "1               Fifa  \n",
      "2          Minecraft  \n",
      "3          Minecraft  \n",
      "4               Fifa  \n",
      "5   League of Legend  \n",
      "6              GTA V  \n",
      "7   League of Legend  \n",
      "8   League of Legend  \n",
      "9   League of Legend  \n",
      "10         Minecraft  \n",
      "11         Minecraft  \n",
      "12         Minecraft  \n",
      "13              Fifa  \n",
      "14              Fifa  \n",
      "15  League of Legend  \n",
      "16         Minecraft  \n",
      "17              Fifa  \n",
      "18         Minecraft  \n",
      "19             GTA V  \n",
      "20         Minecraft  \n",
      "21              Fifa  \n",
      "22         Minecraft  \n",
      "23  League of Legend  \n",
      "24  League of Legend  \n",
      "25         Minecraft  \n",
      "26         Minecraft  \n",
      "27              Fifa  \n",
      "28  League of Legend  \n"
     ]
    }
   ],
   "source": [
    "print(df)"
   ]
  },
  {
   "cell_type": "code",
   "execution_count": 64,
   "id": "245a8bce",
   "metadata": {},
   "outputs": [
    {
     "name": "stdout",
     "output_type": "stream",
     "text": [
      "[[   10 23811    20]\n",
      " [   11 47309    16]\n",
      " [    1 25461    30]\n",
      " [   14  9719    29]\n",
      " [    2 30176    14]\n",
      " [   14  5560    21]\n",
      " [    9 45401     7]\n",
      " [    5 43503    27]\n",
      " [    5 40367    22]\n",
      " [    9 20385    15]\n",
      " [    0 26368    28]\n",
      " [    6  2429    27]\n",
      " [    6 29969    27]\n",
      " [   23 37973    17]\n",
      " [   19 17662    12]\n",
      " [   19 37070    28]\n",
      " [   19  5146    26]\n",
      " [    2 47057    11]\n",
      " [    4  1423    19]\n",
      " [   19 46764     7]\n",
      " [    2 25286    25]\n",
      " [   18 46267    17]\n",
      " [    4  4617    26]\n",
      " [   15  9894    24]\n",
      " [   12 14649    23]\n",
      " [   22  2477    27]\n",
      " [   12 16949    30]\n",
      " [    4 47644    15]\n",
      " [    7  4693    13]]\n",
      "['League of Legend' 'Fifa' 'Minecraft' 'Minecraft' 'Fifa'\n",
      " 'League of Legend' 'GTA V' 'League of Legend' 'League of Legend'\n",
      " 'League of Legend' 'Minecraft' 'Minecraft' 'Minecraft' 'Fifa' 'Fifa'\n",
      " 'League of Legend' 'Minecraft' 'Fifa' 'Minecraft' 'GTA V' 'Minecraft'\n",
      " 'Fifa' 'Minecraft' 'League of Legend' 'League of Legend' 'Minecraft'\n",
      " 'Minecraft' 'Fifa' 'League of Legend']\n"
     ]
    }
   ],
   "source": [
    "feat1 = df[\"Time_of_the_day\"].to_numpy().reshape(-1,1)\n",
    "feat2 = df[\"Number_of_viewers\"].to_numpy().reshape(-1,1)\n",
    "feat3 = df[\"Average_age_of_viewers\"].to_numpy().reshape(-1,1)\n",
    "feat = np.hstack([feat1, feat2, feat3])\n",
    "print(feat)\n",
    "label = df[\"Video_game\"].to_numpy()\n",
    "print(label)\n",
    "encoder = skprepro.LabelEncoder()\n",
    "label = encoder.fit_transform(label)"
   ]
  },
  {
   "cell_type": "code",
   "execution_count": 65,
   "id": "fedf1fe1",
   "metadata": {},
   "outputs": [],
   "source": [
    "model = skmod.LogisticRegression(multi_class = 'ovr')\n",
    "model = model.fit(feat, label)"
   ]
  },
  {
   "cell_type": "code",
   "execution_count": 66,
   "id": "691bac97",
   "metadata": {},
   "outputs": [
    {
     "name": "stdout",
     "output_type": "stream",
     "text": [
      "[2]\n",
      "League of Legend\n"
     ]
    }
   ],
   "source": [
    "predict_proba1 = model.predict(np.array([[11, 10000, 18]]))\n",
    "print(predict_proba1)\n",
    "print(encoder.classes_[predict_proba1][0])"
   ]
  },
  {
   "cell_type": "code",
   "execution_count": 67,
   "id": "3cb1f6b1",
   "metadata": {},
   "outputs": [
    {
     "name": "stdout",
     "output_type": "stream",
     "text": [
      "[[1.09953053e-02 1.10048111e-09 3.36041953e-01 6.52962741e-01]]\n",
      "['Fifa' 'GTA V' 'League of Legend' 'Minecraft']\n"
     ]
    }
   ],
   "source": [
    "predict_proba2 = model.predict_proba(np.array([[23, 1000, 30]]))\n",
    "print(predict_proba2)\n",
    "print(encoder.classes_)"
   ]
  },
  {
   "cell_type": "code",
   "execution_count": 68,
   "id": "ed72b6cb",
   "metadata": {},
   "outputs": [],
   "source": [
    "import sklearn.model_selection as sksel"
   ]
  },
  {
   "cell_type": "code",
   "execution_count": 69,
   "id": "5a8d6089",
   "metadata": {},
   "outputs": [],
   "source": [
    "data_x_train, data_x_test, data_y_train, data_y_test =sksel.train_test_split(feat, label, train_size = 0.8,shuffle = True)"
   ]
  },
  {
   "cell_type": "code",
   "execution_count": 75,
   "id": "6e640889",
   "metadata": {},
   "outputs": [],
   "source": [
    "model = skmod.LogisticRegression(multi_class = 'ovr')\n",
    "model = model.fit(data_x_train, data_y_train)"
   ]
  },
  {
   "cell_type": "code",
   "execution_count": 76,
   "id": "2fcc4404",
   "metadata": {},
   "outputs": [
    {
     "name": "stdout",
     "output_type": "stream",
     "text": [
      "[2]\n",
      "League of Legend\n"
     ]
    }
   ],
   "source": [
    "predict_proba1 = model.predict(np.array([[11, 10000, 18]]))\n",
    "print(predict_proba1)\n",
    "print(encoder.classes_[predict_proba1][0])"
   ]
  },
  {
   "cell_type": "code",
   "execution_count": 77,
   "id": "f1ff3d0a",
   "metadata": {},
   "outputs": [
    {
     "name": "stdout",
     "output_type": "stream",
     "text": [
      "[[4.99293238e-03 1.59792771e-09 3.46508787e-01 6.48498279e-01]]\n",
      "['Fifa' 'GTA V' 'League of Legend' 'Minecraft']\n"
     ]
    }
   ],
   "source": [
    "predict_proba2 = model.predict_proba(np.array([[23, 1000, 30]]))\n",
    "print(predict_proba2)\n",
    "print(encoder.classes_)"
   ]
  },
  {
   "cell_type": "code",
   "execution_count": 78,
   "id": "47c58a97",
   "metadata": {},
   "outputs": [],
   "source": [
    "model = skmod.LogisticRegression(multi_class = 'ovr')\n",
    "model = model.fit(data_x_test, data_y_test)"
   ]
  },
  {
   "cell_type": "code",
   "execution_count": 83,
   "id": "07b9edb3",
   "metadata": {},
   "outputs": [
    {
     "name": "stdout",
     "output_type": "stream",
     "text": [
      "[2]\n",
      "League of Legend\n"
     ]
    }
   ],
   "source": [
    "predict_proba1 = model.predict(np.array([[11, 10000, 18]]))\n",
    "print(predict_proba1)\n",
    "print(encoder.classes_[predict_proba1][0])"
   ]
  },
  {
   "cell_type": "code",
   "execution_count": 80,
   "id": "ce52ddf3",
   "metadata": {},
   "outputs": [
    {
     "name": "stdout",
     "output_type": "stream",
     "text": [
      "[[1.09335820e-04 2.63256353e-01 7.36634311e-01]]\n",
      "['Fifa' 'GTA V' 'League of Legend' 'Minecraft']\n"
     ]
    }
   ],
   "source": [
    "predict_proba2 = model.predict_proba(np.array([[23, 1000, 30]]))\n",
    "print(predict_proba2)\n",
    "print(encoder.classes_)"
   ]
  },
  {
   "cell_type": "code",
   "execution_count": null,
   "id": "761bde1d",
   "metadata": {},
   "outputs": [],
   "source": []
  }
 ],
 "metadata": {
  "kernelspec": {
   "display_name": "Python 3 (ipykernel)",
   "language": "python",
   "name": "python3"
  },
  "language_info": {
   "codemirror_mode": {
    "name": "ipython",
    "version": 3
   },
   "file_extension": ".py",
   "mimetype": "text/x-python",
   "name": "python",
   "nbconvert_exporter": "python",
   "pygments_lexer": "ipython3",
   "version": "3.10.6"
  }
 },
 "nbformat": 4,
 "nbformat_minor": 5
}
