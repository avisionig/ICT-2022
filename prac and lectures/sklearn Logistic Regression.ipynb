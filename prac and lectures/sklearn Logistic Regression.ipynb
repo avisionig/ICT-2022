{
 "cells": [
  {
   "cell_type": "code",
   "execution_count": 32,
   "id": "31753455",
   "metadata": {},
   "outputs": [
    {
     "name": "stdout",
     "output_type": "stream",
     "text": [
      "1,-6,9,10,-9,-100,10,25,-52,36\n",
      "positive,negative,positive,positive,negative,negative,positive,positive,negative,positive\n",
      "200,-20,56,-80\n",
      "For a feature egal to 200, the most probable result is positive with a probability of 1.00.\n",
      "For a feature egal to -20, the most probable result is negative with a probability of 1.00.\n",
      "For a feature egal to 56, the most probable result is positive with a probability of 1.00.\n",
      "For a feature egal to -80, the most probable result is negative with a probability of 1.00.\n"
     ]
    }
   ],
   "source": [
    "import numpy as np\n",
    "import sklearn.linear_model as skmod\n",
    "input1 = input()\n",
    "input2 = input()\n",
    "input3 = input()\n",
    "feature = [int(i) for i in input1.split(',')]\n",
    "label = [i for i in input2.split(',')]\n",
    "feature_predict = [int(i) for i in input3.split(',')]\n",
    "\n",
    "feature = np.array(feature).reshape(-1,1)\n",
    "\n",
    "model = skmod.LogisticRegression()\n",
    "model = model.fit(feature, label)\n",
    "\n",
    "predictions_proba = []\n",
    "predictions = []\n",
    "for i in feature_predict:\n",
    "    predictions_proba.append(model.predict_proba(np.array([[i]]))[0])\n",
    "    predictions.append(model.predict(np.array([i]).reshape(-1, 1))[0])\n",
    "\n",
    "#Use this code for your output where:\n",
    "#        - feature_predict is the list of features given for prediction (=input3)\n",
    "#        - predictions is the list of predictions made by your model with the feature_predict.\n",
    "#        - Predictions_proba is the list a probability of each classes for each predictions (shape looks like [[0.2, 0.8], [0.5, 0.5], [0.6, 0.4]…..], it has two items per predictions, we take the maximum one).\n",
    " \n",
    "for i in range(len(predictions)):\n",
    "    print(\"For a feature egal to {}, the most probable result is {} with a probability of {:.2f}.\".format(feature_predict[i], predictions[i], max(predictions_proba[i])))"
   ]
  },
  {
   "cell_type": "code",
   "execution_count": null,
   "id": "08148640",
   "metadata": {},
   "outputs": [],
   "source": []
  },
  {
   "cell_type": "code",
   "execution_count": null,
   "id": "4a6e9c77",
   "metadata": {},
   "outputs": [],
   "source": []
  }
 ],
 "metadata": {
  "kernelspec": {
   "display_name": "Python 3 (ipykernel)",
   "language": "python",
   "name": "python3"
  },
  "language_info": {
   "codemirror_mode": {
    "name": "ipython",
    "version": 3
   },
   "file_extension": ".py",
   "mimetype": "text/x-python",
   "name": "python",
   "nbconvert_exporter": "python",
   "pygments_lexer": "ipython3",
   "version": "3.11.2"
  }
 },
 "nbformat": 4,
 "nbformat_minor": 5
}
