{
 "cells": [
  {
   "cell_type": "code",
   "execution_count": 7,
   "id": "c84612d2",
   "metadata": {},
   "outputs": [
    {
     "name": "stdout",
     "output_type": "stream",
     "text": [
      "1,2,3,4,5,6\n",
      "2,4,6,8,10,12\n",
      "The most accurate linear regression has the following equation: y' = 2.00*x + 0.00\n"
     ]
    }
   ],
   "source": [
    "input1 = input()\n",
    "input2 = input()\n",
    "\n",
    "input1 = [int(i) for i in input1.split(',')]\n",
    "input2 = [int(i) for i in input2.split(',')]\n",
    "\n",
    "import numpy as np\n",
    "import sklearn.linear_model as skmod\n",
    "\n",
    "input1 = np.array(input1)\n",
    "input2 = np.array(input2)\n",
    "\n",
    "input1 = input1.reshape(-1,1)\n",
    "input2 = input2.reshape(-1,1)\n",
    "\n",
    "model = skmod.LinearRegression()\n",
    "\n",
    "model_ass = model.fit(input1, input2)\n",
    "\n",
    "w1 = float(model_ass.coef_)\n",
    "b = float(model_ass.intercept_)\n",
    "\n",
    "\n",
    "#use this printing (where \"w1\" is the weight and \"b\" the bias)\n",
    "print(\"The most accurate linear regression has the following equation: y' = {:0.2f}*x + {:0.2f}\".format(w1, b))"
   ]
  },
  {
   "cell_type": "code",
   "execution_count": null,
   "id": "9a89808d",
   "metadata": {},
   "outputs": [],
   "source": []
  },
  {
   "cell_type": "code",
   "execution_count": null,
   "id": "38a7d8e4",
   "metadata": {},
   "outputs": [],
   "source": []
  }
 ],
 "metadata": {
  "kernelspec": {
   "display_name": "Python 3 (ipykernel)",
   "language": "python",
   "name": "python3"
  },
  "language_info": {
   "codemirror_mode": {
    "name": "ipython",
    "version": 3
   },
   "file_extension": ".py",
   "mimetype": "text/x-python",
   "name": "python",
   "nbconvert_exporter": "python",
   "pygments_lexer": "ipython3",
   "version": "3.10.6"
  }
 },
 "nbformat": 4,
 "nbformat_minor": 5
}
