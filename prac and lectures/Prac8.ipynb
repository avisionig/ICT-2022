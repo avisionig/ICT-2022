{
 "cells": [
  {
   "cell_type": "code",
   "execution_count": 2,
   "id": "aec59ee5",
   "metadata": {},
   "outputs": [],
   "source": [
    "import pandas as pd\n",
    "import datetime\n",
    "import matplotlib.pyplot as plt\n",
    "import seaborn as sns"
   ]
  },
  {
   "cell_type": "code",
   "execution_count": 3,
   "id": "bdc5f706",
   "metadata": {},
   "outputs": [],
   "source": [
    "df_origin = pd.read_parquet(r\"Downloads\\df_final_US_EUR.parquet\")"
   ]
  },
  {
   "cell_type": "code",
   "execution_count": 4,
   "id": "6f0e84fc",
   "metadata": {},
   "outputs": [],
   "source": [
    "df_select = df_origin[df_origin['Name'] == 'GOOGL']\n",
    "df_select.reset_index(inplace = True, drop = True)"
   ]
  },
  {
   "cell_type": "code",
   "execution_count": 5,
   "id": "f85ccb5d",
   "metadata": {},
   "outputs": [
    {
     "name": "stdout",
     "output_type": "stream",
     "text": [
      "           Date        Open        High         Low       Close   Adj Close  \\\n",
      "0    2004-08-19    2.502503    2.604104    2.401401    2.511011    2.511011   \n",
      "1    2004-08-20    2.527778    2.729730    2.515015    2.710460    2.710460   \n",
      "2    2004-08-23    2.771522    2.839840    2.728979    2.737738    2.737738   \n",
      "3    2004-08-24    2.783784    2.792793    2.591842    2.624374    2.624374   \n",
      "4    2004-08-25    2.626627    2.702703    2.599600    2.652653    2.652653   \n",
      "...         ...         ...         ...         ...         ...         ...   \n",
      "4535 2022-08-24  113.500000  114.779999  112.870003  113.690002  113.690002   \n",
      "4536 2022-08-25  114.239998  116.720001  114.110001  116.650002  116.650002   \n",
      "4537 2022-08-26  114.720001  115.120003  110.190002  110.339996  110.339996   \n",
      "4538 2022-08-29  109.989998  110.949997  108.800003  109.419998  109.419998   \n",
      "4539 2022-08-30  110.169998  110.500000  107.800003  108.940002  108.940002   \n",
      "\n",
      "         Volume   Name  \n",
      "0     893181924  GOOGL  \n",
      "1     456686856  GOOGL  \n",
      "2     365122512  GOOGL  \n",
      "3     304946748  GOOGL  \n",
      "4     183772044  GOOGL  \n",
      "...         ...    ...  \n",
      "4535   17734600  GOOGL  \n",
      "4536   16956800  GOOGL  \n",
      "4537   37245700  GOOGL  \n",
      "4538   21191200  GOOGL  \n",
      "4539   27513300  GOOGL  \n",
      "\n",
      "[4540 rows x 8 columns]\n"
     ]
    }
   ],
   "source": [
    "print(df_select)"
   ]
  },
  {
   "cell_type": "code",
   "execution_count": 7,
   "id": "26674c7d",
   "metadata": {},
   "outputs": [
    {
     "name": "stdout",
     "output_type": "stream",
     "text": [
      "           Date        Open        High         Low       Close   Adj Close  \\\n",
      "0    2004-08-19    2.502503    2.604104    2.401401    2.511011    2.511011   \n",
      "1    2004-08-20    2.527778    2.729730    2.515015    2.710460    2.710460   \n",
      "2    2004-08-23    2.771522    2.839840    2.728979    2.737738    2.737738   \n",
      "3    2004-08-24    2.783784    2.792793    2.591842    2.624374    2.624374   \n",
      "4    2004-08-25    2.626627    2.702703    2.599600    2.652653    2.652653   \n",
      "...         ...         ...         ...         ...         ...         ...   \n",
      "4535 2022-08-24  113.500000  114.779999  112.870003  113.690002  113.690002   \n",
      "4536 2022-08-25  114.239998  116.720001  114.110001  116.650002  116.650002   \n",
      "4537 2022-08-26  114.720001  115.120003  110.190002  110.339996  110.339996   \n",
      "4538 2022-08-29  109.989998  110.949997  108.800003  109.419998  109.419998   \n",
      "4539 2022-08-30  110.169998  110.500000  107.800003  108.940002  108.940002   \n",
      "\n",
      "         Volume   Name   %Change  \n",
      "0     893181924  GOOGL  0.000000  \n",
      "1     456686856  GOOGL  0.999890  \n",
      "2     365122512  GOOGL  8.794595  \n",
      "3     304946748  GOOGL  0.440475  \n",
      "4     183772044  GOOGL -5.983223  \n",
      "...         ...    ...       ...  \n",
      "4535   17734600  GOOGL  0.017618  \n",
      "4536   16956800  GOOGL  0.647757  \n",
      "4537   37245700  GOOGL  0.418413  \n",
      "4538   21191200  GOOGL -4.300394  \n",
      "4539   27513300  GOOGL  0.163384  \n",
      "\n",
      "[4540 rows x 9 columns]\n"
     ]
    }
   ],
   "source": [
    "df = df_origin[df_origin['Name'] == 'GOOGL'].copy()\n",
    "df.reset_index(inplace = True, drop = True)\n",
    "perc = []\n",
    "for index, line in df.iterrows():\n",
    "    if index == 0:\n",
    "        perc.append(0)\n",
    "    else:\n",
    "        perc.append((line['Open'] - df.loc[index-1, 'Open'] ) / line['Open'] *100)\n",
    "\n",
    "df['%Change'] = perc\n",
    "print(df)"
   ]
  },
  {
   "cell_type": "code",
   "execution_count": 21,
   "id": "c3900fb7",
   "metadata": {},
   "outputs": [
    {
     "name": "stdout",
     "output_type": "stream",
     "text": [
      "               Date  Open   High   Low  Close  Adj Close   Volume      Name\n",
      "0        2008-01-29  9.50   9.99  8.57   8.75   0.702589  1489000      AACG\n",
      "1        2008-01-30  8.75   9.15  8.30   8.50   0.682516   219000      AACG\n",
      "2        2008-01-31  8.49  10.30  8.49   9.55   0.766826   182300      AACG\n",
      "3        2008-02-01  9.93   9.94  9.50   9.51   0.763614    28200      AACG\n",
      "4        2008-02-04  9.50   9.71  9.50   9.50   0.762811     8300      AACG\n",
      "...             ...   ...    ...   ...    ...        ...      ...       ...\n",
      "27247611 2022-08-24  9.54   9.54  7.75   9.00   9.000000   125933  ZWIPE.OL\n",
      "27247612 2022-08-25  8.79   9.99  8.03   9.34   9.340000   159549  ZWIPE.OL\n",
      "27247613 2022-08-26  8.95   9.29  8.00   8.30   8.300000    17487  ZWIPE.OL\n",
      "27247614 2022-08-29  8.12   8.61  7.86   7.98   7.980000    58661  ZWIPE.OL\n",
      "27247615 2022-08-30  7.70   8.52  7.60   8.33   8.330000     7684  ZWIPE.OL\n",
      "\n",
      "[27247616 rows x 8 columns]\n"
     ]
    }
   ],
   "source": [
    "print(df_origin)"
   ]
  },
  {
   "cell_type": "code",
   "execution_count": 25,
   "id": "5a651106",
   "metadata": {},
   "outputs": [
    {
     "data": {
      "text/plain": [
       "<AxesSubplot: >"
      ]
     },
     "execution_count": 25,
     "metadata": {},
     "output_type": "execute_result"
    },
    {
     "data": {
      "image/png": "[encoded data removed]",
      "text/plain": [
       "<Figure size 640x480 with 1 Axes>"
      ]
     },
     "metadata": {},
     "output_type": "display_data"
    }
   ],
   "source": [
    "df_big = pd.read_parquet(r\"Downloads\\df_final_US_EUR.parquet\")\n",
    "df_big.plot( y = 'Open')"
   ]
  },
  {
   "cell_type": "code",
   "execution_count": 30,
   "id": "b6c3be68",
   "metadata": {},
   "outputs": [
    {
     "name": "stdout",
     "output_type": "stream",
     "text": [
      "               Date  Open   High   Low  Close  Adj Close   Volume      Name\n",
      "0        2008-01-29  9.50   9.99  8.57   8.75   0.702589  1489000      AACG\n",
      "1        2008-01-30  8.75   9.15  8.30   8.50   0.682516   219000      AACG\n",
      "2        2008-01-31  8.49  10.30  8.49   9.55   0.766826   182300      AACG\n",
      "3        2008-02-01  9.93   9.94  9.50   9.51   0.763614    28200      AACG\n",
      "4        2008-02-04  9.50   9.71  9.50   9.50   0.762811     8300      AACG\n",
      "...             ...   ...    ...   ...    ...        ...      ...       ...\n",
      "27247611 2022-08-24  9.54   9.54  7.75   9.00   9.000000   125933  ZWIPE.OL\n",
      "27247612 2022-08-25  8.79   9.99  8.03   9.34   9.340000   159549  ZWIPE.OL\n",
      "27247613 2022-08-26  8.95   9.29  8.00   8.30   8.300000    17487  ZWIPE.OL\n",
      "27247614 2022-08-29  8.12   8.61  7.86   7.98   7.980000    58661  ZWIPE.OL\n",
      "27247615 2022-08-30  7.70   8.52  7.60   8.33   8.330000     7684  ZWIPE.OL\n",
      "\n",
      "[24503101 rows x 8 columns]\n"
     ]
    }
   ],
   "source": [
    "df_big = df_big[df_big['Open'] > 0]\n",
    "df_big = df_big[df_big['High'] > 0]\n",
    "df_big = df_big[df_big['Low'] > 0]\n",
    "df_big = df_big[df_big['Close'] > 0]\n",
    "df_big = df_big[df_big['Volume'] > 0]\n",
    "df_big = df_big[df_big['Adj Close'] > 0]\n",
    "print(df_big)"
   ]
  },
  {
   "cell_type": "code",
   "execution_count": null,
   "id": "0f12128c",
   "metadata": {},
   "outputs": [],
   "source": []
  }
 ],
 "metadata": {
  "kernelspec": {
   "display_name": "Python 3 (ipykernel)",
   "language": "python",
   "name": "python3"
  },
  "language_info": {
   "codemirror_mode": {
    "name": "ipython",
    "version": 3
   },
   "file_extension": ".py",
   "mimetype": "text/x-python",
   "name": "python",
   "nbconvert_exporter": "python",
   "pygments_lexer": "ipython3",
   "version": "3.10.6"
  }
 },
 "nbformat": 4,
 "nbformat_minor": 5
}
