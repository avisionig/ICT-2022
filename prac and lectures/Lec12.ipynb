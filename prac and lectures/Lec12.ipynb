{
 "cells": [
  {
   "cell_type": "code",
   "execution_count": 2,
   "id": "343e91a1",
   "metadata": {},
   "outputs": [],
   "source": [
    "import sklearn.metrics as skmet\n",
    "import pandas as pd\n",
    "import numpy as np\n",
    "import matplotlib.pyplot as plt\n",
    "import sklearn.model_selection as sksel\n",
    "import sklearn.preprocessing as skprepro\n",
    "import sklearn.linear_model as skmod"
   ]
  },
  {
   "cell_type": "code",
   "execution_count": 3,
   "id": "77753d10",
   "metadata": {},
   "outputs": [],
   "source": [
    "hours_homework = [1, 10, 3, 20, 32, 6, 1, 9, 2, 10, 5]\n",
    "sucess_exam = ['fail', 'pass','fail','pass','pass','fail','fail','pass','fail', 'fail', 'pass']"
   ]
  },
  {
   "cell_type": "code",
   "execution_count": 4,
   "id": "8890876c",
   "metadata": {},
   "outputs": [],
   "source": [
    "pass_not = []\n",
    "for i in sucess_exam:\n",
    "    if i == 'fail':\n",
    "        pass_not.append(0)\n",
    "    else :\n",
    "        pass_not.append(1)"
   ]
  },
  {
   "cell_type": "code",
   "execution_count": 5,
   "id": "951b2f74",
   "metadata": {},
   "outputs": [],
   "source": [
    "hours_homework = np.array(hours_homework).reshape(-1,1)\n",
    "pass_not = np.array(pass_not)"
   ]
  },
  {
   "cell_type": "code",
   "execution_count": 8,
   "id": "72fb7af9",
   "metadata": {},
   "outputs": [],
   "source": [
    "model = skmod.LogisticRegression()\n",
    "model = model.fit(hours_homework, pass_not)"
   ]
  },
  {
   "cell_type": "code",
   "execution_count": 16,
   "id": "a325de94",
   "metadata": {},
   "outputs": [
    {
     "name": "stdout",
     "output_type": "stream",
     "text": [
      "[[0.47363896 0.52636104]]\n"
     ]
    }
   ],
   "source": [
    "print(model.predict_proba(np.array([[8]])))"
   ]
  },
  {
   "cell_type": "code",
   "execution_count": null,
   "id": "b0cf2fc9",
   "metadata": {},
   "outputs": [],
   "source": []
  },
  {
   "cell_type": "code",
   "execution_count": 17,
   "id": "08d0213f",
   "metadata": {},
   "outputs": [],
   "source": [
    "Salary = [3.19, 4.28, 2.63, 4.6, 1.26, 1.17, 2.58, 4.19, 0.67, 1.88, 3.81, 1.57, 2.44, 0.97, 3.59, 1.7, 1.34, 1.91, 2.77, 2.53, 1.27]\n",
    "Age= [52, 66, 56, 50, 29, 20, 36, 33, 45, 53, 24, 59, 45, 69, 68, 26, 43, 45, 61, 20, 53]\n",
    "Car = [\"Mercedes\", \"Mercedes\", \"Mercedes\", \"Toyota\", \"Kia\", \"Kia\", \"Toyota\", \"Toyota\", \"Peugot\", \"Toyota\", \"Peugot\", \"Toyota\", \"Toyota\", \"Peugot\", \"Mercedes\", \"Kia\", \"Toyota\", \"Toyota\", \"Mercedes\", \"Peugot\", \"Toyota\"]"
   ]
  },
  {
   "cell_type": "code",
   "execution_count": 18,
   "id": "8530d9c4",
   "metadata": {},
   "outputs": [
    {
     "name": "stdout",
     "output_type": "stream",
     "text": [
      "[1 1 1 3 0 0 3 3 2 3 2 3 3 2 1 0 3 3 1 2 3]\n"
     ]
    }
   ],
   "source": [
    "encoder = skprepro.LabelEncoder()\n",
    "fav_code = encoder.fit_transform(Car)\n",
    "print(fav_code)"
   ]
  },
  {
   "cell_type": "code",
   "execution_count": 21,
   "id": "277620bf",
   "metadata": {},
   "outputs": [],
   "source": [
    "age = np.array(Age).reshape(-1,1)\n",
    "sal = np.array(Salary).reshape(-1,1)\n",
    "x = np.hstack([age,sal])\n",
    "fav_code = np.array(fav_code)"
   ]
  },
  {
   "cell_type": "code",
   "execution_count": 22,
   "id": "bdca0f8a",
   "metadata": {},
   "outputs": [],
   "source": [
    "model = skmod.LogisticRegression(multi_class = 'ovr')\n",
    "model = model.fit(x, fav_code)"
   ]
  },
  {
   "cell_type": "code",
   "execution_count": 33,
   "id": "d0b5ff10",
   "metadata": {},
   "outputs": [
    {
     "name": "stdout",
     "output_type": "stream",
     "text": [
      "[[0.01833553 0.10300613 0.25121112 0.62744722]]\n",
      "['Kia' 'Mercedes' 'Peugot' 'Toyota']\n"
     ]
    }
   ],
   "source": [
    "predict_proba = model.predict_proba(np.array([[45, 2.5]]))\n",
    "print(predict_proba)\n",
    "print(encoder.classes_)"
   ]
  },
  {
   "cell_type": "code",
   "execution_count": null,
   "id": "0a7d1cf2",
   "metadata": {},
   "outputs": [],
   "source": [
    "\n"
   ]
  },
  {
   "cell_type": "code",
   "execution_count": null,
   "id": "f86c3438",
   "metadata": {},
   "outputs": [],
   "source": []
  }
 ],
 "metadata": {
  "kernelspec": {
   "display_name": "Python 3 (ipykernel)",
   "language": "python",
   "name": "python3"
  },
  "language_info": {
   "codemirror_mode": {
    "name": "ipython",
    "version": 3
   },
   "file_extension": ".py",
   "mimetype": "text/x-python",
   "name": "python",
   "nbconvert_exporter": "python",
   "pygments_lexer": "ipython3",
   "version": "3.10.6"
  }
 },
 "nbformat": 4,
 "nbformat_minor": 5
}
